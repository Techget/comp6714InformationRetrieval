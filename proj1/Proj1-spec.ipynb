{
 "cells": [
  {
   "cell_type": "markdown",
   "metadata": {
    "deletable": true,
    "editable": true
   },
   "source": [
    "# COMP6714-Project 1\n",
    "\n",
    "### Submission Deadline for the Project is 23:59:59 PM, on **25 Sep, 2017** \n",
    "\n",
    "This ipython notebook illustrates the requirements for **COMP6714 Project-1**.\n",
    "\n",
    "## Instructions:\n",
    "1. You need to implement your code in **`submission.py`** file, provided along with this notebook.\n",
    "2. For all questions, your codes in the file **`submission.py`** need to output your results according to corresponding format specified in **`Proj1-spec.ipynb`**.\n",
    "3. We will not consider any output printed out on the screen. All results should be returned in appropriate data structures return by corresponding functions.\n",
    "4. This Project is not designed to be a full-fledged software program, so we will not evaluate it deliberately using any invalid inputs.\n",
    "5. You are **not allowed** to change the names of the functions to be submitted in **`submission.py`**. \n",
    "6. If you choose to skip a question, leave the corresponding function body in the file **submission.py** as it is (i.e., keep the **`pass`** line), otherwise it will affect your marks for other questions.\n",
    "7. You are allowed to add other functions and import modules (which you may have to in this project), but you are **not allowed to define global variables**, i.e., **only functions are allowed** in **`submission.py`**. Also be careful not to import unnecessary modules, as it may lead to unexpected errors.\n",
    "8. You are allowed to submit as many times as you want before the deadline, but **ONLY the latest version will be kept and marked**.\n",
    "9. For your convenience, we will process your codes submitted before the **Deadline** using a sample dataset, you should not consider these results as your final grades.\n",
    "10. For **Final Grades** we will be using a different dataset, so your final scores may vary."
   ]
  },
  {
   "cell_type": "markdown",
   "metadata": {
    "deletable": true,
    "editable": true
   },
   "source": [
    "# Question 0: An example (0 point)\n",
    "\n",
    "We illustrate the steps for completing the **project** notebook and prepare **`submission.py`** by solving the `Question 0`. In this example question, you are required to implement a function that takes two integer arguments `a` and `b`, and output their sum.\n",
    "\n",
    "You will be provided with the definition of the function, as given below:"
   ]
  },
  {
   "cell_type": "code",
   "execution_count": 84,
   "metadata": {
    "collapsed": true,
    "deletable": true,
    "editable": true
   },
   "outputs": [],
   "source": [
    "def add(a, b): # do not change the heading of the function\n",
    "    pass # **replace** this line with your code"
   ]
  },
  {
   "cell_type": "markdown",
   "metadata": {
    "deletable": true,
    "editable": true
   },
   "source": [
    "**Step 1**: You need to put your implementation in the function body like below **(you should remove the `pass` line from the function body)**:"
   ]
  },
  {
   "cell_type": "code",
   "execution_count": 85,
   "metadata": {
    "collapsed": true,
    "deletable": true,
    "editable": true
   },
   "outputs": [],
   "source": [
    "def add(a, b): # do not change the heading of the function\n",
    "    return a + b"
   ]
  },
  {
   "cell_type": "markdown",
   "metadata": {
    "deletable": true,
    "editable": true
   },
   "source": [
    "**Step 2**: you need to paste your code to **`submission.py`**, which originally contains only function definitions. We have added this function in **`submission.py`** as a sample solution to **Question 0** for your reference."
   ]
  },
  {
   "cell_type": "markdown",
   "metadata": {
    "deletable": true,
    "editable": true
   },
   "source": [
    "Here is the demonstration of our testing environment, which explains how we will evaluate your submission. "
   ]
  },
  {
   "cell_type": "code",
   "execution_count": 86,
   "metadata": {
    "collapsed": false,
    "deletable": true,
    "editable": true
   },
   "outputs": [
    {
     "name": "stdout",
     "output_type": "stream",
     "text": [
      "8\n"
     ]
    }
   ],
   "source": [
    "import submission\n",
    "\n",
    "result = submission.add(5,3)\n",
    "print(result)"
   ]
  },
  {
   "cell_type": "markdown",
   "metadata": {
    "deletable": true,
    "editable": true
   },
   "source": [
    "As you can see, all you need to/have to do is to implement the function; do not print anything out from your own implementation. (c.f., Instruction-#3)\n",
    "<br />\n",
    "<br />\n",
    "<br />\n",
    "<br />\n",
    "<br />\n"
   ]
  },
  {
   "cell_type": "markdown",
   "metadata": {
    "deletable": true,
    "editable": true
   },
   "source": [
    "# Question 1: List Intersection using Galloping Search (35 point)\n",
    "\n",
    "You need to implement a function named: **`gallop_to`** using the galloping search algorithm. \n",
    "\n",
    "#### Specifications:\n",
    "We will test your implementation of **`gallop_to`** using a seperate function **`intersection_galloping`**, which is already provided to you in this notebook.\n",
    "\n",
    "Input of the **`intersection_galloping`** function consists of two objects of the **`InvertedList`** class, initiated with sorted list of integers, e.g.,\n",
    "\n",
    "`a = InvertedList([2, 4, 6, 8, 10, 12, 14, 16, 18])`\n",
    "\n",
    "`b = InvertedList([1, 2, 4, 8, 16, 32])`\n",
    "\n",
    "\n",
    "**`intersection_galloping(a, b)`** calls the function: **`gallop_to`** by passing, an InvertedList object to traverse, and an integer **value** that we need to gallop to. \n",
    "\n",
    "In addition to galloping, each run of **`gallop_to`** will also return an integer **count** representing the number of times you assess a value (under the current pointer) in the InvertedList object passed to the **`gallop_to`** function. \n",
    "\n",
    "Final output of **`intersection_galloping`** will be a list of integers, and a count representing the sum of all the **count** variables returned by the **`gallop_to`** function.\n",
    "\n",
    "\n",
    "#### Example:\n",
    "\n",
    "#### (i) `intersection_galloping(a, b)`\n",
    " ##### (a) input:\n",
    "\n",
    "`a = InvertedList([2, 4, 6, 8, 10, 12, 14, 16, 18])`\n",
    "\n",
    "`b = InvertedList([1, 2, 4, 8, 16, 32])`\n",
    " \n",
    " ##### (b) output:\n",
    " \n",
    "([2, 4, 8, 16], 17)\n",
    "\n",
    "#### (ii) `gallop_to(a, 8)`\n",
    " ##### (a) input: \n",
    "\n",
    "`a = InvertedList([2, 4, 6, 8, 10, 12, 14, 16, 18])`\n",
    "\n",
    "`val = 8`\n",
    "\n",
    "In the above example, for `InvertedList object a` with current `cursor position = 2`, corresponding to `current value = 6`, `gallop_to(a, 8)` will return a **count = 2**, which corresponds to the sum of 1st peek at `cursor position = 2, value = 6`, and a 2nd peek at `cursor position = 4, value = 10`, after we doubled the interval.\n",
    "\n",
    " ##### (b) output:\n",
    " \n",
    " `2`\n",
    " \n",
    "** Note:** In `gallop_to`, you are only allowed to update **count**, for the elements of **InvertedList** that you checked as: <br>\n",
    "* smaller than **val** (*i.e.,* elements< **val**), and \n",
    "* the first element that is greater than or equal to the **val** (*i.e.,* element >= **val**).\n"
   ]
  },
  {
   "cell_type": "markdown",
   "metadata": {
    "deletable": true,
    "editable": true
   },
   "source": [
    "## The InvertedList class\n",
    "\n",
    "To facilitate the implementation of `Question 1`, we provide this `InvertedList` class which encapsulates all the important *operations* needed to be performed on an inverted list. "
   ]
  },
  {
   "cell_type": "code",
   "execution_count": 215,
   "metadata": {
    "collapsed": true,
    "deletable": true,
    "editable": true
   },
   "outputs": [],
   "source": [
    "class InvertedList:\n",
    "    def __init__(self, l):\n",
    "        self.data = l[:] # make a copy\n",
    "        self.cur = 0     # the cursor \n",
    "\n",
    "    def get_list(self):\n",
    "        return self.data\n",
    " \n",
    "    def eol(self):\n",
    "        # we use cur == len(list) to indicate EOL\n",
    "        return False if self.cur < len(self.data) else True\n",
    "    \n",
    "    def next(self, val = 1):\n",
    "        # does not allow cur to be out-of-range, but use len(list) to indicate EOL\n",
    "        self.cur = min(self.cur + val, len(self.data)) \n",
    "            \n",
    "    def elem(self):\n",
    "        if self.eol():\n",
    "            return None\n",
    "        else: \n",
    "            return self.data[self.cur]\n",
    "    def peek(self, pos):\n",
    "        # look at the element under the current cursor, but does not advance the cursor. \n",
    "        if pos < len(self.data):\n",
    "            return self.data[pos]\n",
    "        else:\n",
    "            return None\n",
    "    def reset(self):\n",
    "        self.cur = 0            \n"
   ]
  },
  {
   "cell_type": "markdown",
   "metadata": {
    "deletable": true,
    "editable": true
   },
   "source": [
    "You need to implement your code below, and copy this code in the file **`submission.py`**"
   ]
  },
  {
   "cell_type": "code",
   "execution_count": 216,
   "metadata": {
    "collapsed": false,
    "deletable": true,
    "editable": true
   },
   "outputs": [],
   "source": [
    "def gallop_to(a, val):# do not change the heading of the function\n",
    "    count = 0\n",
    "    inc = 1\n",
    "    cur_cur = a.cur\n",
    "    \n",
    "    ### first step: gallop ###\n",
    "    gallop_val = a.peek(cur_cur)\n",
    "    # the case where it starts with large value\n",
    "    if gallop_val >= val:\n",
    "        # print(\"invalid\")\n",
    "        return count\n",
    "    \n",
    "    while gallop_val < val:\n",
    "        gallop_val = a.peek(cur_cur)\n",
    "        # print(\"in first while loop, gallop_val:\", gallop_val)\n",
    "        count += 1\n",
    "        # it comes to an end. but still smaller than val, return directly, the wrap function will deal with this\n",
    "        if gallop_val == None:\n",
    "            return count\n",
    "        \n",
    "        if gallop_val < val:\n",
    "            a.next(val = inc)\n",
    "            cur_cur = a.cur\n",
    "            inc *= 2\n",
    "        else:\n",
    "            break\n",
    "    \n",
    "    ### if currently, a.data[cur] is equal to val, then we do not need to do BS\n",
    "    if a.peek(cur_cur) == val:\n",
    "        return count\n",
    "\n",
    "    ### binary search ###\n",
    "    cur_cur = a.cur\n",
    "    prev_cur = cur_cur - inc//2\n",
    "    # print(\"binary search start: cur_cur:\",cur_cur, \"prev_cur:\", prev_cur)\n",
    "    \n",
    "    # do not need to make a copy, since no modification will be made\n",
    "    data = a.data\n",
    "    mid = (cur_cur + prev_cur) // 2\n",
    "    \n",
    "    while cur_cur - prev_cur > 1:\n",
    "        if data[mid] < val:\n",
    "            prev_cur = mid\n",
    "            mid = (cur_cur + prev_cur) // 2\n",
    "        elif data[mid] == val:\n",
    "            # a.next(mid)\n",
    "            a.cur = mid\n",
    "            return count\n",
    "        else:\n",
    "            cur_cur = mid\n",
    "            mid = (cur_cur + prev_cur) // 2\n",
    "    \n",
    "    # if not find, set cursor in list to cur_cur, since when it comes here, data[cur_cur] is the number \n",
    "    # closest to val and larger than val.\n",
    "    # a.next(cur_cur)\n",
    "    a.cur = cur_cur\n",
    "    # print(\"execute to end, cur_cur: \", cur_cur)\n",
    "    # print(a.cur)\n",
    "    return count    \n"
   ]
  },
  {
   "cell_type": "markdown",
   "metadata": {
    "deletable": true,
    "editable": true
   },
   "source": [
    "## Intersection Algorithm using `gallop_to()`\n",
    "\n",
    "After implementing the `gallop_to()` function, you will be using Intersection Algorithm, *i.e.*, `intersection_galloping` to test your results.\n",
    "\n",
    "In this function, we initialize a variable named: **count** to store the total number of times you peek a value in InvertedList passed to the `gallop_to()` function.\n",
    "\n",
    "You will observe, the galloping search algorithm quickly skip over the list to reposition the cursor."
   ]
  },
  {
   "cell_type": "code",
   "execution_count": 217,
   "metadata": {
    "collapsed": true,
    "deletable": true,
    "editable": true
   },
   "outputs": [],
   "source": [
    "import submission\n",
    "\n",
    "def intersection_galloping(a, b):\n",
    "    # just in case these lists have been traversed.\n",
    "    a.reset()\n",
    "    b.reset()\n",
    "    count = 0\n",
    "\n",
    "    ret = []\n",
    "    while not a.eol() and not b.eol():\n",
    "#         print(\"a.elem and b.elem\",a.elem(), \" \",b.elem() )\n",
    "        if a.elem() == b.elem():\n",
    "            ret.append(a.elem())\n",
    "            a.next()  # Note that here you are only allowed to move the cursor of one InvertedList Object. \n",
    "        else:\n",
    "            if a.elem() < b.elem():\n",
    "                # count = count + submission.gallop_to(a,b.elem())\n",
    "                count = count + gallop_to(a,b.elem())\n",
    "            else:\n",
    "                # count = count + submission.gallop_to(b,a.elem())\n",
    "                count = count + gallop_to(b,a.elem())\n",
    "    # end_while\n",
    "    return ret, count"
   ]
  },
  {
   "cell_type": "markdown",
   "metadata": {
    "deletable": true,
    "editable": true
   },
   "source": [
    "After implementation of the `gallop_to` function, you can test your implementation here. It should result an output ([2, 4, 8, 16], 17)"
   ]
  },
  {
   "cell_type": "code",
   "execution_count": 220,
   "metadata": {
    "collapsed": false,
    "deletable": true,
    "editable": true
   },
   "outputs": [
    {
     "name": "stdout",
     "output_type": "stream",
     "text": [
      "([2, 4, 8, 16], 17)\n"
     ]
    }
   ],
   "source": [
    "a = InvertedList([2, 4, 6, 8, 10, 12, 14, 16, 18])\n",
    "b = InvertedList([1, 2, 4, 8, 16, 32])\n",
    "result = intersection_galloping(a, b)\n",
    "print(result)"
   ]
  },
  {
   "cell_type": "markdown",
   "metadata": {
    "deletable": true,
    "editable": true
   },
   "source": [
    "# Question 2: Logarithmic Merge (35 point)\n",
    "\n",
    "In this question, we simulate the implementation of (binary) Logarithmic_Merge for Index Merging, given in **L4-slides (36-37)**.\n",
    "You are required to implement the Logarithmic Megre function: **`Logarithmic_merge(index, cut_off, buffer_size)`**.\n",
    "\n",
    "The function takes 3 parameters as input,i.e., *(i)* **index**, *(ii)* **cut_off**, and *(iii)* **buffer_size**.\n",
    "1. First parameter, **index**, represents the live streaming index, we simulate the **index** using a list of unordered integers.\n",
    "2. Second parameter, **cut_off**, is the cut_off point for the streaming **index**, it is illustrated in the example below.\n",
    "3. Third parameter, **buffer_size**, represents the maximum size of your memory buffer. When **index** is **greater than or equal** to the **buffer_size**, we write down the **index** in a file.\n",
    "\n",
    "##### Note: You are not supposed to actually write down your index in the file, you will be simulating the index writing part by adding the index to a list.\n",
    "\n",
    "#### Example for cut_off:\n",
    "index = [15, 46, 19, 93, 73, 64, 33, 80, 73, 26, 22, **-77-**, 27, .....]\n",
    "\n",
    "Assume that you have access to live-streaming data, which is being populated in your list named: **index**. The parameter, **cut_off** defines a threshold for the **index**. For-example, **cut_off = 12** will restrict the function:**`Logarithmic_merge(index, cut_off, buffer_size)`** to use **top 12** values, i.e., it will only consider values upto and including the value **77**. \n",
    "\n",
    "#### Specifications:\n",
    "Your inputs will be the *(i)* **index**, i.e., unsorted list of integers, *(ii)* **cut_off**, *i.e.,* the cut-off point, and *(iii)* **buffer_size**, *i.e.,* the maximum size of index that can be kept in memory. \n",
    "\n",
    "Your output should be a list of sub-lists, where each sub-list stores intermediate result of logarithmic merge. First sub-list will store the value for Z0, the second sub-list will store the value of L0, and the subsequent sub-lists will store values for L1, L2, L3 and so on...\n",
    "##### Note: Don't remove empty sub-lists from your final result. It will effect your evaluation.\n",
    "\n",
    "#### Example:\n",
    "\n",
    " ##### input: (index, cut_off, buffer_size), e.g., ([15, 46, 19, 93, 73, 64, 33, 80, 73, 26, 22, 77, 27], 10, 3)\n",
    " \n",
    " ##### output: List of sub-lists storing all the intermediate results, and the final result, e.g., [[26], [33, 73, 80], [15, 19, 46, 64, 73, 93]].\n",
    " \n",
    "**Note**:<br>\n",
    "1. Z0 should be added at the start of the final list, followed by L0, L1, L3, and so on... <br>\n",
    "2. In the example output, Z0 = [26], L0 = [33, 73, 80], L1 = [15, 19, 46, 64, 73, 93] <br>\n",
    "3. **index** within a sub-list should be sorted. <br>"
   ]
  },
  {
   "cell_type": "markdown",
   "metadata": {
    "deletable": true,
    "editable": true
   },
   "source": [
    "You need to implement your code below, and copy this code in the file **`submission.py`**"
   ]
  },
  {
   "cell_type": "code",
   "execution_count": 125,
   "metadata": {
    "collapsed": true,
    "deletable": true,
    "editable": true
   },
   "outputs": [],
   "source": [
    "def merge_two_list(l1, l2):\n",
    "    data = l1[:]\n",
    "    data.extend(l2)\n",
    "    data.sort()\n",
    "    return data\n",
    "\n",
    "def Logarithmic_merge(index, cut_off, buffer_size): # do not change the function heading\n",
    "    buffer = []\n",
    "    output = []\n",
    "    # highest_gen = 0\n",
    "    \n",
    "    for i in range(cut_off):\n",
    "        cur_index = index[i]\n",
    "        \n",
    "        # put into buffer\n",
    "        if len(buffer) < buffer_size:\n",
    "            buffer.append(cur_index)\n",
    "            continue\n",
    "        \n",
    "        # need to merge\n",
    "        # this buffer will be used as intermediate data structure in the following loop as well\n",
    "        buffer.sort()\n",
    "        merge_flag = False\n",
    "        temp_gen = 0\n",
    "        while merge_flag == False:\n",
    "            if temp_gen >= len(output):\n",
    "                # means we need a new generation\n",
    "                output.append(buffer)\n",
    "                merge_flag = True\n",
    "            elif output[temp_gen] == []:\n",
    "                # this generation is empty put buffer here\n",
    "                output[temp_gen] = buffer\n",
    "                merge_flag = True\n",
    "            else:\n",
    "                # actually need to do merge\n",
    "                buffer = merge_two_list(buffer, output[temp_gen])\n",
    "                output[temp_gen] = []\n",
    "                temp_gen += 1          \n",
    "    \n",
    "        # clean up for next index\n",
    "        buffer = [cur_index]\n",
    "        \n",
    "    # last buffer still need to put into consideration\n",
    "    if buffer != []:\n",
    "        output.insert(0, buffer)\n",
    "    else:\n",
    "        output.insert(0, [])\n",
    "\n",
    "        \n",
    "    return output    "
   ]
  },
  {
   "cell_type": "markdown",
   "metadata": {
    "deletable": true,
    "editable": true
   },
   "source": [
    "After implementation of **`Logarithmic_merge`**, you can test your implementation here. You should see the following output:\n",
    "\n",
    "[[26], [33, 73, 80], [15, 19, 46, 64, 73, 93]]"
   ]
  },
  {
   "cell_type": "code",
   "execution_count": 146,
   "metadata": {
    "collapsed": false,
    "deletable": true,
    "editable": true
   },
   "outputs": [
    {
     "name": "stdout",
     "output_type": "stream",
     "text": [
      "[[26], [33, 73, 80], [15, 19, 46, 64, 73, 93]]\n"
     ]
    }
   ],
   "source": [
    "import random\n",
    "import submission\n",
    "\n",
    "random.seed(1999)\n",
    "n = 13\n",
    "index = [random.randint(1, 100) for _ in range(n)]\n",
    "\n",
    "result = Logarithmic_merge(index, 10, 3) #cut_off = 10, initial buffer_size = 3\n",
    "print(result) # expect to see a list of lists"
   ]
  },
  {
   "cell_type": "markdown",
   "metadata": {
    "deletable": true,
    "editable": true
   },
   "source": [
    "# Question 3: Decoders for Gamma, Delta, and Rice codes (30 point)\n",
    "\n",
    "In this part you will implement decoders for Gamma, Delta, and Rice codes.\n",
    "\n",
    "#### Specifications:\n",
    "For Gamma, and Delta decoders, your input will be a string of bits (0s or 1s) without any space. Your output for Gamma, and Delta decoders should be a list of integers. \n",
    "For Rice decoder, input constitutes of the *(i)* code, i.e., a string of bits (0s or 1s) without any space, and *(ii)* an integer representing the value of b. Here b = 2^k. Output of Rice decoder should be a list of integers.\n",
    "\n",
    "##### Note, for Rice Decoder, in contrast to the information provided in (L5, slide57), we assume the input of the decoder is comig from q = [x]/b, and r = (x) - (q.b). \n",
    "\n",
    "#### (i) Examples for Gamma and Delta:\n",
    "\n",
    " ##### (a) input: (String x), e.g., (\"1111111100000000011111111000001001\")\n",
    " \n",
    " ##### (b) output: list of numbers, e.g., [256, 265]\n",
    " \n",
    "#### (ii) Example for Rice Decoder:\n",
    " ##### (a) input: (String x , int b) e.g., (\"11110101111011\",4)\n",
    " \n",
    " ##### (b) output: list of numbers, e.g., [18, 19]"
   ]
  },
  {
   "cell_type": "markdown",
   "metadata": {
    "deletable": true,
    "editable": true
   },
   "source": [
    "You need to implement your code below, and copy this code in the file **`submission.py`**"
   ]
  },
  {
   "cell_type": "code",
   "execution_count": 143,
   "metadata": {
    "collapsed": false,
    "deletable": true,
    "editable": true
   },
   "outputs": [],
   "source": [
    "def binary_str_to_int(string):\n",
    "    s = string[::-1]\n",
    "    base = 0\n",
    "    output = 0\n",
    "    \n",
    "    for char in s:\n",
    "        output += int(char) * (2 ** base)\n",
    "        base += 1\n",
    "    \n",
    "    return output\n",
    "    \n",
    "def decode_gamma(inputs):# do not change the function heading\n",
    "    if inputs == '':\n",
    "        # In gamma code, not even a digit stands for 0\n",
    "        return [0]\n",
    "    \n",
    "    binary_bits = 0\n",
    "    unary_flag = True\n",
    "    # The first binary '1' is deliberately omitted, so the string init with '1' instead of ''\n",
    "    binary_string = '1'\n",
    "    output = []\n",
    "    \n",
    "    for bit in inputs:\n",
    "        if unary_flag:\n",
    "            if bit == '1':\n",
    "                binary_bits += 1\n",
    "            else:\n",
    "                unary_flag = False\n",
    "        else:\n",
    "            if binary_bits > 0:\n",
    "                # concatenate to binary_string\n",
    "                binary_string += bit\n",
    "                binary_bits -= 1\n",
    "            else:\n",
    "                output.append(binary_str_to_int(binary_string))\n",
    "                # recover for next number decoding\n",
    "                binary_string = '1'\n",
    "                if bit == '0':\n",
    "                    # means next number is 1\n",
    "                    binary_bits = 0\n",
    "                    unary_flag = False\n",
    "                elif bit == '1':\n",
    "                    binary_bits = 1\n",
    "                    unary_flag = True\n",
    "                else:\n",
    "                    print(\"Strange, the bit is:\", bit)\n",
    "    \n",
    "    # The last number\n",
    "    output.append(binary_str_to_int(binary_string))\n",
    "    \n",
    "    return output \n",
    "            "
   ]
  },
  {
   "cell_type": "markdown",
   "metadata": {
    "deletable": true,
    "editable": true
   },
   "source": [
    "After implementation of **`decode_gamma`**, you can test your implementation here. You should see the following output [256, 265]"
   ]
  },
  {
   "cell_type": "code",
   "execution_count": 190,
   "metadata": {
    "collapsed": false,
    "deletable": true,
    "editable": true
   },
   "outputs": [
    {
     "name": "stdout",
     "output_type": "stream",
     "text": [
      "[1023, 16, 1, 1, 1, 1]\n"
     ]
    }
   ],
   "source": [
    "import submission\n",
    "# inputs = \"0001001111111100000000001111111100000100101000\"\n",
    "inputs = \"11111111101111111111111000000000\"\n",
    "# result = submission.decode_gamma(inputs)\n",
    "result = decode_gamma(inputs)\n",
    "print(result)"
   ]
  },
  {
   "cell_type": "markdown",
   "metadata": {
    "deletable": true,
    "editable": true
   },
   "source": [
    "You need to implement your code below, and copy this code in the file **`submission.py`**"
   ]
  },
  {
   "cell_type": "code",
   "execution_count": 193,
   "metadata": {
    "collapsed": false,
    "deletable": true,
    "editable": true
   },
   "outputs": [],
   "source": [
    "def read_one_delta_number(input_string):\n",
    "    if input_string[0] == '0':\n",
    "        return 1,1\n",
    "    \n",
    "    binary_bits = 0\n",
    "    unary_flag = True\n",
    "    output = None\n",
    "    gamma_code = ''\n",
    "    cur_pos = 0\n",
    "    \n",
    "    for bit in input_string:\n",
    "        if unary_flag:\n",
    "            if bit == '1':\n",
    "                binary_bits += 1\n",
    "                gamma_code += bit\n",
    "            else:\n",
    "                gamma_code += bit\n",
    "                unary_flag = False\n",
    "        else:\n",
    "            if binary_bits > 0:\n",
    "                gamma_code += bit\n",
    "                binary_bits -= 1\n",
    "            else:\n",
    "                # make use of the `decode_gamma`\n",
    "                digits_need = decode_gamma(gamma_code)[0]\n",
    "                digits_need -= 1\n",
    "                \n",
    "                binary_string = '1' + input_string[cur_pos:cur_pos + digits_need]\n",
    "                # print(\"binary_string:\", binary_string)\n",
    "                output = binary_str_to_int(binary_string)\n",
    "                cur_pos += digits_need\n",
    "                break\n",
    "        \n",
    "        cur_pos += 1\n",
    "    \n",
    "    # return the how many digits has read, also the corresponding number\n",
    "    return cur_pos, output\n",
    "\n",
    "def decode_delta(inputs):# do not change the function heading\n",
    "    cur_pos = 0\n",
    "    output = []\n",
    "    \n",
    "    while cur_pos < len(inputs):  \n",
    "        temp_cur_pos, temp_output = read_one_delta_number(inputs[cur_pos:])\n",
    "        cur_pos += temp_cur_pos\n",
    "        output.append(temp_output)\n",
    "\n",
    "    return output\n",
    "        "
   ]
  },
  {
   "cell_type": "markdown",
   "metadata": {
    "collapsed": true,
    "deletable": true,
    "editable": true
   },
   "source": [
    "\n",
    "After implementation of **`decode_delta`**, you can test your implementation here. You should see the following output: [256, 265]"
   ]
  },
  {
   "cell_type": "code",
   "execution_count": 194,
   "metadata": {
    "collapsed": false,
    "deletable": true,
    "editable": true
   },
   "outputs": [
    {
     "name": "stdout",
     "output_type": "stream",
     "text": [
      "[1, 255, 1, 256, 265, 1, 2]\n"
     ]
    }
   ],
   "source": [
    "import submission\n",
    "# inputs = \"01110001000000001110001000010010\"\n",
    "# inputs = \"11100001111111\" # 255\n",
    "inputs = \"011100001111111011100010000000011100010000100101000\"\n",
    "# inputs = \"1000\" # 2\n",
    "# result = submission.decode_delta(inputs)\n",
    "result = decode_delta(inputs)\n",
    "print(result)"
   ]
  },
  {
   "cell_type": "markdown",
   "metadata": {
    "deletable": true,
    "editable": true
   },
   "source": [
    "You need to implement your code below, and copy this code in the file **`submission.py`**"
   ]
  },
  {
   "cell_type": "code",
   "execution_count": 213,
   "metadata": {
    "collapsed": true,
    "deletable": true,
    "editable": true
   },
   "outputs": [],
   "source": [
    "import math\n",
    "\n",
    "def read_one_rice_number(input_string, b):\n",
    "    digits_after_unary = int(math.log(b, 2))\n",
    "    \n",
    "    #special case for 1\n",
    "    if input_string[0:(1 + digits_after_unary)] == '0' * (1+digits_after_unary):\n",
    "        return 1 + digits_after_unary, 1\n",
    "   \n",
    "    unary_flag = True\n",
    "    output = None\n",
    "    unary_number = 0\n",
    "    cur_pos = 0\n",
    "    \n",
    "    for bit in input_string:\n",
    "        if unary_flag:\n",
    "            if bit == '1':\n",
    "                unary_number += 1\n",
    "            else:\n",
    "                unary_flag = False\n",
    "        else:\n",
    "            binary_string = input_string[cur_pos : cur_pos + digits_after_unary]\n",
    "            r = binary_str_to_int(binary_string)\n",
    "            output = unary_number * b + r\n",
    "            cur_pos += digits_after_unary\n",
    "            break\n",
    "        \n",
    "        cur_pos += 1\n",
    "    \n",
    "    # return the how many digits has read, also the corresponding number\n",
    "    return cur_pos, output\n",
    "\n",
    "def decode_rice(inputs, b):# do not change the function heading\n",
    "    cur_pos = 0\n",
    "    output = []\n",
    "    \n",
    "    while cur_pos < len(inputs):  \n",
    "        temp_cur_pos, temp_output = read_one_rice_number(inputs[cur_pos:], b)\n",
    "        cur_pos += temp_cur_pos\n",
    "        output.append(temp_output)\n",
    "\n",
    "    return output"
   ]
  },
  {
   "cell_type": "markdown",
   "metadata": {
    "collapsed": true,
    "deletable": true,
    "editable": true
   },
   "source": [
    "After implementation of **`decode_rice`**, you can test your implementation here. you should see the following output: [18, 19]"
   ]
  },
  {
   "cell_type": "code",
   "execution_count": 214,
   "metadata": {
    "collapsed": false,
    "deletable": true,
    "editable": true
   },
   "outputs": [
    {
     "name": "stdout",
     "output_type": "stream",
     "text": [
      "[1, 18, 1, 19, 1, 18, 2]\n"
     ]
    }
   ],
   "source": [
    "import submission\n",
    "inputs = \"000111101000011110110001111010010\"\n",
    "b = 4\n",
    "# result = submission.decode_rice(inputs, b)\n",
    "result = decode_rice(inputs, b)\n",
    "print(result)"
   ]
  },
  {
   "cell_type": "code",
   "execution_count": null,
   "metadata": {
    "collapsed": true
   },
   "outputs": [],
   "source": []
  }
 ],
 "metadata": {
  "kernelspec": {
   "display_name": "Python 3",
   "language": "python",
   "name": "python3"
  },
  "language_info": {
   "codemirror_mode": {
    "name": "ipython",
    "version": 3
   },
   "file_extension": ".py",
   "mimetype": "text/x-python",
   "name": "python",
   "nbconvert_exporter": "python",
   "pygments_lexer": "ipython3",
   "version": "3.5.2"
  }
 },
 "nbformat": 4,
 "nbformat_minor": 2
}
